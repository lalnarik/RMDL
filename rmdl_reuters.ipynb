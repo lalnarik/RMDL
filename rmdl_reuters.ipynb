{
  "nbformat": 4,
  "nbformat_minor": 0,
  "metadata": {
    "colab": {
      "name": "Untitled3.ipynb",
      "provenance": [],
      "machine_shape": "hm"
    },
    "kernelspec": {
      "name": "python3",
      "display_name": "Python 3"
    },
    "accelerator": "GPU"
  },
  "cells": [
    {
      "cell_type": "code",
      "metadata": {
        "id": "yvBghNdI5-l0",
        "colab_type": "code",
        "colab": {
          "base_uri": "https://localhost:8080/",
          "height": 746
        },
        "outputId": "72808036-1e9c-4ac5-9dec-8f1165184b73"
      },
      "source": [
        "!pip3 install RMDL\n",
        "%matplotlib inline"
      ],
      "execution_count": 3,
      "outputs": [
        {
          "output_type": "stream",
          "text": [
            "Collecting RMDL\n",
            "\u001b[?25l  Downloading https://files.pythonhosted.org/packages/b8/4c/f4f40cec03cc82c0f59edda88c163328a0f6347b87eb446e90cba58bc706/RMDL-1.0.6-py2.py3-none-any.whl (41kB)\n",
            "\r\u001b[K     |████████                        | 10kB 16.1MB/s eta 0:00:01\r\u001b[K     |███████████████▉                | 20kB 4.3MB/s eta 0:00:01\r\u001b[K     |███████████████████████▊        | 30kB 6.2MB/s eta 0:00:01\r\u001b[K     |███████████████████████████████▊| 40kB 8.0MB/s eta 0:00:01\r\u001b[K     |████████████████████████████████| 51kB 8.0MB/s \n",
            "\u001b[?25hRequirement already satisfied: tensorflow in /usr/local/lib/python3.6/dist-packages (from RMDL) (1.15.0rc3)\n",
            "Requirement already satisfied: numpy>=1.12.1 in /usr/local/lib/python3.6/dist-packages (from RMDL) (1.16.5)\n",
            "Requirement already satisfied: nltk>=3.2.4 in /usr/local/lib/python3.6/dist-packages (from RMDL) (3.2.5)\n",
            "Requirement already satisfied: keras>=2.0.9 in /usr/local/lib/python3.6/dist-packages (from RMDL) (2.2.5)\n",
            "Requirement already satisfied: scipy in /usr/local/lib/python3.6/dist-packages (from RMDL) (1.3.1)\n",
            "Requirement already satisfied: pandas>=0.22.0 in /usr/local/lib/python3.6/dist-packages (from RMDL) (0.24.2)\n",
            "Requirement already satisfied: scikit-learn>=0.19.0 in /usr/local/lib/python3.6/dist-packages (from RMDL) (0.21.3)\n",
            "Requirement already satisfied: matplotlib>=2.1.2 in /usr/local/lib/python3.6/dist-packages (from RMDL) (3.0.3)\n",
            "Requirement already satisfied: tensorboard<1.16.0,>=1.15.0 in /usr/local/lib/python3.6/dist-packages (from tensorflow->RMDL) (1.15.0)\n",
            "Requirement already satisfied: astor>=0.6.0 in /usr/local/lib/python3.6/dist-packages (from tensorflow->RMDL) (0.8.0)\n",
            "Requirement already satisfied: six>=1.10.0 in /usr/local/lib/python3.6/dist-packages (from tensorflow->RMDL) (1.12.0)\n",
            "Requirement already satisfied: wheel>=0.26 in /usr/local/lib/python3.6/dist-packages (from tensorflow->RMDL) (0.33.6)\n",
            "Requirement already satisfied: termcolor>=1.1.0 in /usr/local/lib/python3.6/dist-packages (from tensorflow->RMDL) (1.1.0)\n",
            "Requirement already satisfied: wrapt>=1.11.1 in /usr/local/lib/python3.6/dist-packages (from tensorflow->RMDL) (1.11.2)\n",
            "Requirement already satisfied: google-pasta>=0.1.6 in /usr/local/lib/python3.6/dist-packages (from tensorflow->RMDL) (0.1.7)\n",
            "Requirement already satisfied: keras-applications>=1.0.8 in /usr/local/lib/python3.6/dist-packages (from tensorflow->RMDL) (1.0.8)\n",
            "Requirement already satisfied: gast==0.2.2 in /usr/local/lib/python3.6/dist-packages (from tensorflow->RMDL) (0.2.2)\n",
            "Requirement already satisfied: grpcio>=1.8.6 in /usr/local/lib/python3.6/dist-packages (from tensorflow->RMDL) (1.15.0)\n",
            "Requirement already satisfied: opt-einsum>=2.3.2 in /usr/local/lib/python3.6/dist-packages (from tensorflow->RMDL) (3.1.0)\n",
            "Requirement already satisfied: absl-py>=0.7.0 in /usr/local/lib/python3.6/dist-packages (from tensorflow->RMDL) (0.8.0)\n",
            "Requirement already satisfied: protobuf>=3.6.1 in /usr/local/lib/python3.6/dist-packages (from tensorflow->RMDL) (3.7.1)\n",
            "Requirement already satisfied: tensorflow-estimator==1.15.1 in /usr/local/lib/python3.6/dist-packages (from tensorflow->RMDL) (1.15.1)\n",
            "Requirement already satisfied: keras-preprocessing>=1.0.5 in /usr/local/lib/python3.6/dist-packages (from tensorflow->RMDL) (1.1.0)\n",
            "Requirement already satisfied: pyyaml in /usr/local/lib/python3.6/dist-packages (from keras>=2.0.9->RMDL) (3.13)\n",
            "Requirement already satisfied: h5py in /usr/local/lib/python3.6/dist-packages (from keras>=2.0.9->RMDL) (2.8.0)\n",
            "Requirement already satisfied: python-dateutil>=2.5.0 in /usr/local/lib/python3.6/dist-packages (from pandas>=0.22.0->RMDL) (2.5.3)\n",
            "Requirement already satisfied: pytz>=2011k in /usr/local/lib/python3.6/dist-packages (from pandas>=0.22.0->RMDL) (2018.9)\n",
            "Requirement already satisfied: joblib>=0.11 in /usr/local/lib/python3.6/dist-packages (from scikit-learn>=0.19.0->RMDL) (0.14.0)\n",
            "Requirement already satisfied: pyparsing!=2.0.4,!=2.1.2,!=2.1.6,>=2.0.1 in /usr/local/lib/python3.6/dist-packages (from matplotlib>=2.1.2->RMDL) (2.4.2)\n",
            "Requirement already satisfied: cycler>=0.10 in /usr/local/lib/python3.6/dist-packages (from matplotlib>=2.1.2->RMDL) (0.10.0)\n",
            "Requirement already satisfied: kiwisolver>=1.0.1 in /usr/local/lib/python3.6/dist-packages (from matplotlib>=2.1.2->RMDL) (1.1.0)\n",
            "Requirement already satisfied: werkzeug>=0.11.15 in /usr/local/lib/python3.6/dist-packages (from tensorboard<1.16.0,>=1.15.0->tensorflow->RMDL) (0.16.0)\n",
            "Requirement already satisfied: markdown>=2.6.8 in /usr/local/lib/python3.6/dist-packages (from tensorboard<1.16.0,>=1.15.0->tensorflow->RMDL) (3.1.1)\n",
            "Requirement already satisfied: setuptools>=41.0.0 in /usr/local/lib/python3.6/dist-packages (from tensorboard<1.16.0,>=1.15.0->tensorflow->RMDL) (41.2.0)\n",
            "Installing collected packages: RMDL\n",
            "Successfully installed RMDL-1.0.6\n"
          ],
          "name": "stdout"
        }
      ]
    },
    {
      "cell_type": "code",
      "metadata": {
        "id": "joLNUuNg6W2m",
        "colab_type": "code",
        "colab": {
          "base_uri": "https://localhost:8080/",
          "height": 126
        },
        "outputId": "5aa2d5bd-c2d3-4cf2-9b5d-cd0c85d17db5"
      },
      "source": [
        "import sys\n",
        "import os\n",
        "import nltk\n",
        "nltk.download(\"reuters\")\n",
        "from nltk.corpus import reuters\n",
        "from sklearn.preprocessing import MultiLabelBinarizer\n",
        "import numpy as np\n",
        "from RMDL import RMDL_Text as RMDL"
      ],
      "execution_count": 1,
      "outputs": [
        {
          "output_type": "stream",
          "text": [
            "[nltk_data] Downloading package reuters to /root/nltk_data...\n"
          ],
          "name": "stdout"
        },
        {
          "output_type": "stream",
          "text": [
            "Using TensorFlow backend.\n"
          ],
          "name": "stderr"
        },
        {
          "output_type": "stream",
          "text": [
            "sys.version_info(major=3, minor=6, micro=8, releaselevel='final', serial=0)\n",
            "sys.version_info(major=3, minor=6, micro=8, releaselevel='final', serial=0)\n",
            "[nltk_data] Downloading package stopwords to /root/nltk_data...\n",
            "[nltk_data]   Package stopwords is already up-to-date!\n"
          ],
          "name": "stdout"
        }
      ]
    },
    {
      "cell_type": "code",
      "metadata": {
        "id": "gEJV0L306gSF",
        "colab_type": "code",
        "colab": {
          "base_uri": "https://localhost:8080/",
          "height": 1000
        },
        "outputId": "92facd41-7a66-41bf-8bc0-2a07a6bf1584"
      },
      "source": [
        "if __name__ == \"__main__\":\n",
        "    documents = reuters.fileids()\n",
        "    train_docs_id = list(filter(lambda doc: doc.startswith(\"train\"),\n",
        "                                documents))\n",
        "    test_docs_id = list(filter(lambda doc: doc.startswith(\"test\"),\n",
        "                               documents))\n",
        "    X_train = [(reuters.raw(doc_id)) for doc_id in train_docs_id]\n",
        "    X_test = [(reuters.raw(doc_id)) for doc_id in test_docs_id]\n",
        "    mlb = MultiLabelBinarizer()\n",
        "    y_train = mlb.fit_transform([reuters.categories(doc_id)\n",
        "                                 for doc_id in train_docs_id])\n",
        "    y_test = mlb.transform([reuters.categories(doc_id)\n",
        "                            for doc_id in test_docs_id])\n",
        "    y_train = np.argmax(y_train, axis=1)\n",
        "    y_test = np.argmax(y_test, axis=1)\n",
        "    batch_size = 100\n",
        "    sparse_categorical = 0\n",
        "    n_epochs = [5, 5, 5]  ## DNN--RNN-CNN\n",
        "    Random_Deep = [1, 1, 1]  ## DNN--RNN-CNN\n",
        "    RMDL.Text_Classification(X_train, y_train, X_test, y_test,\n",
        "                             batch_size=batch_size,\n",
        "                             sparse_categorical=True,\n",
        "                             random_deep=Random_Deep,\n",
        "                             epochs=n_epochs)"
      ],
      "execution_count": 2,
      "outputs": [
        {
          "output_type": "stream",
          "text": [
            ".\\Glove/glove.6B.zip\n",
            "tf-idf with 26283 features\n",
            "/content/.\\Glove/glove.6B.50d.txt\n",
            "Found 32668 unique tokens.\n",
            "(10788, 500)\n",
            "Total 400000 word vectors.\n",
            "DNN 0\n",
            "WARNING:tensorflow:From /usr/local/lib/python3.6/dist-packages/keras/backend/tensorflow_backend.py:66: The name tf.get_default_graph is deprecated. Please use tf.compat.v1.get_default_graph instead.\n",
            "\n",
            "WARNING:tensorflow:From /usr/local/lib/python3.6/dist-packages/keras/backend/tensorflow_backend.py:541: The name tf.placeholder is deprecated. Please use tf.compat.v1.placeholder instead.\n",
            "\n",
            "WARNING:tensorflow:From /usr/local/lib/python3.6/dist-packages/keras/backend/tensorflow_backend.py:4432: The name tf.random_uniform is deprecated. Please use tf.random.uniform instead.\n",
            "\n",
            "WARNING:tensorflow:From /usr/local/lib/python3.6/dist-packages/keras/backend/tensorflow_backend.py:148: The name tf.placeholder_with_default is deprecated. Please use tf.compat.v1.placeholder_with_default instead.\n",
            "\n",
            "WARNING:tensorflow:From /usr/local/lib/python3.6/dist-packages/keras/backend/tensorflow_backend.py:3733: calling dropout (from tensorflow.python.ops.nn_ops) with keep_prob is deprecated and will be removed in a future version.\n",
            "Instructions for updating:\n",
            "Please use `rate` instead of `keep_prob`. Rate should be set to `rate = 1 - keep_prob`.\n",
            "<keras.optimizers.RMSprop object at 0x7fd5041367f0>\n",
            "WARNING:tensorflow:From /usr/local/lib/python3.6/dist-packages/keras/optimizers.py:793: The name tf.train.Optimizer is deprecated. Please use tf.compat.v1.train.Optimizer instead.\n",
            "\n",
            "WARNING:tensorflow:From /usr/local/lib/python3.6/dist-packages/keras/backend/tensorflow_backend.py:3622: The name tf.log is deprecated. Please use tf.math.log instead.\n",
            "\n",
            "WARNING:tensorflow:From /usr/local/lib/python3.6/dist-packages/tensorflow_core/python/ops/math_grad.py:1424: where (from tensorflow.python.ops.array_ops) is deprecated and will be removed in a future version.\n",
            "Instructions for updating:\n",
            "Use tf.where in 2.0, which has the same broadcast rule as np.where\n",
            "WARNING:tensorflow:From /usr/local/lib/python3.6/dist-packages/keras/backend/tensorflow_backend.py:1033: The name tf.assign_add is deprecated. Please use tf.compat.v1.assign_add instead.\n",
            "\n",
            "WARNING:tensorflow:From /usr/local/lib/python3.6/dist-packages/keras/backend/tensorflow_backend.py:1020: The name tf.assign is deprecated. Please use tf.compat.v1.assign instead.\n",
            "\n",
            "WARNING:tensorflow:From /usr/local/lib/python3.6/dist-packages/keras/backend/tensorflow_backend.py:3005: The name tf.Session is deprecated. Please use tf.compat.v1.Session instead.\n",
            "\n",
            "Train on 7769 samples, validate on 3019 samples\n",
            "Epoch 1/5\n",
            "WARNING:tensorflow:From /usr/local/lib/python3.6/dist-packages/keras/backend/tensorflow_backend.py:190: The name tf.get_default_session is deprecated. Please use tf.compat.v1.get_default_session instead.\n",
            "\n",
            "WARNING:tensorflow:From /usr/local/lib/python3.6/dist-packages/keras/backend/tensorflow_backend.py:197: The name tf.ConfigProto is deprecated. Please use tf.compat.v1.ConfigProto instead.\n",
            "\n",
            "WARNING:tensorflow:From /usr/local/lib/python3.6/dist-packages/keras/backend/tensorflow_backend.py:207: The name tf.global_variables is deprecated. Please use tf.compat.v1.global_variables instead.\n",
            "\n",
            "WARNING:tensorflow:From /usr/local/lib/python3.6/dist-packages/keras/backend/tensorflow_backend.py:216: The name tf.is_variable_initialized is deprecated. Please use tf.compat.v1.is_variable_initialized instead.\n",
            "\n",
            "WARNING:tensorflow:From /usr/local/lib/python3.6/dist-packages/keras/backend/tensorflow_backend.py:223: The name tf.variables_initializer is deprecated. Please use tf.compat.v1.variables_initializer instead.\n",
            "\n",
            " - 8s - loss: 2.1391 - acc: 0.4427 - val_loss: 1.5069 - val_acc: 0.6058\n",
            "\n",
            "Epoch 00001: val_acc improved from -inf to 0.60583, saving model to weights\\weights_DNN_0.hdf5\n",
            "Epoch 2/5\n",
            " - 3s - loss: 1.4670 - acc: 0.5987 - val_loss: 1.4367 - val_acc: 0.6191\n",
            "\n",
            "Epoch 00002: val_acc improved from 0.60583 to 0.61908, saving model to weights\\weights_DNN_0.hdf5\n",
            "Epoch 3/5\n",
            " - 3s - loss: 1.1961 - acc: 0.6709 - val_loss: 1.2063 - val_acc: 0.7115\n",
            "\n",
            "Epoch 00003: val_acc improved from 0.61908 to 0.71149, saving model to weights\\weights_DNN_0.hdf5\n",
            "Epoch 4/5\n",
            " - 3s - loss: 0.9756 - acc: 0.7186 - val_loss: 1.0897 - val_acc: 0.7337\n",
            "\n",
            "Epoch 00004: val_acc improved from 0.71149 to 0.73369, saving model to weights\\weights_DNN_0.hdf5\n",
            "Epoch 5/5\n",
            " - 3s - loss: 0.8478 - acc: 0.7480 - val_loss: 1.0417 - val_acc: 0.7473\n",
            "\n",
            "Epoch 00005: val_acc improved from 0.73369 to 0.74727, saving model to weights\\weights_DNN_0.hdf5\n",
            "RNN 0\n",
            "1\n",
            "63\n",
            "<keras.optimizers.Adam object at 0x7fd4f0140128>\n",
            "Train on 7769 samples, validate on 3019 samples\n",
            "Epoch 1/5\n",
            " - 135s - loss: 2.6491 - acc: 0.3903 - val_loss: 2.0197 - val_acc: 0.5207\n",
            "\n",
            "Epoch 00001: val_acc improved from -inf to 0.52070, saving model to weights\\weights_RNN_0.hdf5\n",
            "Epoch 2/5\n",
            " - 134s - loss: 1.8200 - acc: 0.5396 - val_loss: 1.4996 - val_acc: 0.6366\n",
            "\n",
            "Epoch 00002: val_acc improved from 0.52070 to 0.63663, saving model to weights\\weights_RNN_0.hdf5\n",
            "Epoch 3/5\n",
            " - 133s - loss: 1.4905 - acc: 0.6142 - val_loss: 1.3422 - val_acc: 0.6777\n",
            "\n",
            "Epoch 00003: val_acc improved from 0.63663 to 0.67771, saving model to weights\\weights_RNN_0.hdf5\n",
            "Epoch 4/5\n",
            " - 134s - loss: 1.2882 - acc: 0.6552 - val_loss: 1.1959 - val_acc: 0.6900\n",
            "\n",
            "Epoch 00004: val_acc improved from 0.67771 to 0.68996, saving model to weights\\weights_RNN_0.hdf5\n",
            "Epoch 5/5\n",
            " - 133s - loss: 1.1116 - acc: 0.6880 - val_loss: 1.0718 - val_acc: 0.7204\n",
            "\n",
            "Epoch 00005: val_acc improved from 0.68996 to 0.72044, saving model to weights\\weights_RNN_0.hdf5\n",
            "CNN 0\n",
            "Filter   6\n",
            "Node   297\n",
            "WARNING:tensorflow:From /usr/local/lib/python3.6/dist-packages/keras/backend/tensorflow_backend.py:4267: The name tf.nn.max_pool is deprecated. Please use tf.nn.max_pool2d instead.\n",
            "\n",
            "<keras.optimizers.Adam object at 0x7fd4adb4eb38>\n",
            "Train on 7769 samples, validate on 3019 samples\n",
            "Epoch 1/5\n",
            " - 33s - loss: 2.3148 - acc: 0.4490 - val_loss: 1.9476 - val_acc: 0.6297\n",
            "\n",
            "Epoch 00001: val_acc improved from -inf to 0.62968, saving model to weights\\weights_CNN_0.hdf5\n",
            "Epoch 2/5\n",
            " - 27s - loss: 1.5579 - acc: 0.6052 - val_loss: 1.5732 - val_acc: 0.6860\n",
            "\n",
            "Epoch 00002: val_acc improved from 0.62968 to 0.68599, saving model to weights\\weights_CNN_0.hdf5\n",
            "Epoch 3/5\n",
            " - 27s - loss: 1.2459 - acc: 0.6655 - val_loss: 1.5071 - val_acc: 0.7373\n",
            "\n",
            "Epoch 00003: val_acc improved from 0.68599 to 0.73733, saving model to weights\\weights_CNN_0.hdf5\n",
            "Epoch 4/5\n",
            " - 27s - loss: 1.0601 - acc: 0.7099 - val_loss: 1.2478 - val_acc: 0.7562\n",
            "\n",
            "Epoch 00004: val_acc improved from 0.73733 to 0.75621, saving model to weights\\weights_CNN_0.hdf5\n",
            "Epoch 5/5\n",
            " - 27s - loss: 0.8762 - acc: 0.7516 - val_loss: 1.0930 - val_acc: 0.7595\n",
            "\n",
            "Epoch 00005: val_acc improved from 0.75621 to 0.75952, saving model to weights\\weights_CNN_0.hdf5\n",
            "(3019, 3)\n",
            "Accuracy of 3 models: [0.7472673070553163, 0.7204372308711494, 0.7595230208678371]\n",
            "Accuracy: 0.7611791984100695\n",
            "F1_Micro: (0.7611791984100695, 0.7611791984100695, 0.7611791984100695, None)\n",
            "F1_Macro: (0.11426217354381715, 0.13357214381982405, 0.11257738591583817, None)\n",
            "F1_weighted: (0.72939539586902, 0.7611791984100695, 0.7349990468788619, None)\n"
          ],
          "name": "stdout"
        },
        {
          "output_type": "stream",
          "text": [
            "/usr/local/lib/python3.6/dist-packages/sklearn/metrics/classification.py:1437: UndefinedMetricWarning: Precision and F-score are ill-defined and being set to 0.0 in labels with no predicted samples.\n",
            "  'precision', 'predicted', average, warn_for)\n"
          ],
          "name": "stderr"
        }
      ]
    }
  ]
}