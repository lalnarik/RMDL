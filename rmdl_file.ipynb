{
  "nbformat": 4,
  "nbformat_minor": 0,
  "metadata": {
    "colab": {
      "name": "Untitled0.ipynb",
      "provenance": []
    },
    "kernelspec": {
      "name": "python3",
      "display_name": "Python 3"
    },
    "accelerator": "GPU"
  },
  "cells": [
    {
      "cell_type": "code",
      "metadata": {
        "id": "Q4sqgM8A6ogS",
        "colab_type": "code",
        "outputId": "991d7fe7-8696-434c-c007-503a31964460",
        "colab": {
          "base_uri": "https://localhost:8080/",
          "height": 676
        }
      },
      "source": [
        "!pip3 install RMDL\n",
        "%matplotlib inline"
      ],
      "execution_count": 1,
      "outputs": [
        {
          "output_type": "stream",
          "text": [
            "Collecting RMDL\n",
            "\u001b[?25l  Downloading https://files.pythonhosted.org/packages/b8/4c/f4f40cec03cc82c0f59edda88c163328a0f6347b87eb446e90cba58bc706/RMDL-1.0.6-py2.py3-none-any.whl (41kB)\n",
            "\u001b[K     |████████████████████████████████| 51kB 4.8MB/s \n",
            "\u001b[?25hRequirement already satisfied: matplotlib>=2.1.2 in /usr/local/lib/python3.6/dist-packages (from RMDL) (3.0.3)\n",
            "Requirement already satisfied: keras>=2.0.9 in /usr/local/lib/python3.6/dist-packages (from RMDL) (2.2.5)\n",
            "Requirement already satisfied: scikit-learn>=0.19.0 in /usr/local/lib/python3.6/dist-packages (from RMDL) (0.21.3)\n",
            "Requirement already satisfied: tensorflow in /usr/local/lib/python3.6/dist-packages (from RMDL) (1.14.0)\n",
            "Requirement already satisfied: numpy>=1.12.1 in /usr/local/lib/python3.6/dist-packages (from RMDL) (1.16.5)\n",
            "Requirement already satisfied: pandas>=0.22.0 in /usr/local/lib/python3.6/dist-packages (from RMDL) (0.24.2)\n",
            "Requirement already satisfied: scipy in /usr/local/lib/python3.6/dist-packages (from RMDL) (1.3.1)\n",
            "Requirement already satisfied: nltk>=3.2.4 in /usr/local/lib/python3.6/dist-packages (from RMDL) (3.2.5)\n",
            "Requirement already satisfied: pyparsing!=2.0.4,!=2.1.2,!=2.1.6,>=2.0.1 in /usr/local/lib/python3.6/dist-packages (from matplotlib>=2.1.2->RMDL) (2.4.2)\n",
            "Requirement already satisfied: python-dateutil>=2.1 in /usr/local/lib/python3.6/dist-packages (from matplotlib>=2.1.2->RMDL) (2.5.3)\n",
            "Requirement already satisfied: cycler>=0.10 in /usr/local/lib/python3.6/dist-packages (from matplotlib>=2.1.2->RMDL) (0.10.0)\n",
            "Requirement already satisfied: kiwisolver>=1.0.1 in /usr/local/lib/python3.6/dist-packages (from matplotlib>=2.1.2->RMDL) (1.1.0)\n",
            "Requirement already satisfied: pyyaml in /usr/local/lib/python3.6/dist-packages (from keras>=2.0.9->RMDL) (3.13)\n",
            "Requirement already satisfied: six>=1.9.0 in /usr/local/lib/python3.6/dist-packages (from keras>=2.0.9->RMDL) (1.12.0)\n",
            "Requirement already satisfied: keras-preprocessing>=1.1.0 in /usr/local/lib/python3.6/dist-packages (from keras>=2.0.9->RMDL) (1.1.0)\n",
            "Requirement already satisfied: h5py in /usr/local/lib/python3.6/dist-packages (from keras>=2.0.9->RMDL) (2.8.0)\n",
            "Requirement already satisfied: keras-applications>=1.0.8 in /usr/local/lib/python3.6/dist-packages (from keras>=2.0.9->RMDL) (1.0.8)\n",
            "Requirement already satisfied: joblib>=0.11 in /usr/local/lib/python3.6/dist-packages (from scikit-learn>=0.19.0->RMDL) (0.13.2)\n",
            "Requirement already satisfied: protobuf>=3.6.1 in /usr/local/lib/python3.6/dist-packages (from tensorflow->RMDL) (3.7.1)\n",
            "Requirement already satisfied: grpcio>=1.8.6 in /usr/local/lib/python3.6/dist-packages (from tensorflow->RMDL) (1.15.0)\n",
            "Requirement already satisfied: termcolor>=1.1.0 in /usr/local/lib/python3.6/dist-packages (from tensorflow->RMDL) (1.1.0)\n",
            "Requirement already satisfied: wrapt>=1.11.1 in /usr/local/lib/python3.6/dist-packages (from tensorflow->RMDL) (1.11.2)\n",
            "Requirement already satisfied: google-pasta>=0.1.6 in /usr/local/lib/python3.6/dist-packages (from tensorflow->RMDL) (0.1.7)\n",
            "Requirement already satisfied: gast>=0.2.0 in /usr/local/lib/python3.6/dist-packages (from tensorflow->RMDL) (0.2.2)\n",
            "Requirement already satisfied: tensorflow-estimator<1.15.0rc0,>=1.14.0rc0 in /usr/local/lib/python3.6/dist-packages (from tensorflow->RMDL) (1.14.0)\n",
            "Requirement already satisfied: wheel>=0.26 in /usr/local/lib/python3.6/dist-packages (from tensorflow->RMDL) (0.33.6)\n",
            "Requirement already satisfied: absl-py>=0.7.0 in /usr/local/lib/python3.6/dist-packages (from tensorflow->RMDL) (0.8.0)\n",
            "Requirement already satisfied: astor>=0.6.0 in /usr/local/lib/python3.6/dist-packages (from tensorflow->RMDL) (0.8.0)\n",
            "Requirement already satisfied: tensorboard<1.15.0,>=1.14.0 in /usr/local/lib/python3.6/dist-packages (from tensorflow->RMDL) (1.14.0)\n",
            "Requirement already satisfied: pytz>=2011k in /usr/local/lib/python3.6/dist-packages (from pandas>=0.22.0->RMDL) (2018.9)\n",
            "Requirement already satisfied: setuptools in /usr/local/lib/python3.6/dist-packages (from kiwisolver>=1.0.1->matplotlib>=2.1.2->RMDL) (41.2.0)\n",
            "Requirement already satisfied: markdown>=2.6.8 in /usr/local/lib/python3.6/dist-packages (from tensorboard<1.15.0,>=1.14.0->tensorflow->RMDL) (3.1.1)\n",
            "Requirement already satisfied: werkzeug>=0.11.15 in /usr/local/lib/python3.6/dist-packages (from tensorboard<1.15.0,>=1.14.0->tensorflow->RMDL) (0.15.6)\n",
            "Installing collected packages: RMDL\n",
            "Successfully installed RMDL-1.0.6\n"
          ],
          "name": "stdout"
        }
      ]
    },
    {
      "cell_type": "code",
      "metadata": {
        "id": "WA6Q4DVd7U6u",
        "colab_type": "code",
        "outputId": "bd737435-ea4c-45bf-ac6e-16a3c4c4ec23",
        "colab": {
          "base_uri": "https://localhost:8080/",
          "height": 104
        }
      },
      "source": [
        "from keras.datasets import mnist\n",
        "import numpy as np\n",
        "from RMDL import RMDL_Image as RMDL"
      ],
      "execution_count": 2,
      "outputs": [
        {
          "output_type": "stream",
          "text": [
            "Using TensorFlow backend.\n"
          ],
          "name": "stderr"
        },
        {
          "output_type": "stream",
          "text": [
            "sys.version_info(major=3, minor=6, micro=8, releaselevel='final', serial=0)\n",
            "sys.version_info(major=3, minor=6, micro=8, releaselevel='final', serial=0)\n",
            "[nltk_data] Downloading package stopwords to /root/nltk_data...\n",
            "[nltk_data]   Unzipping corpora/stopwords.zip.\n"
          ],
          "name": "stdout"
        }
      ]
    },
    {
      "cell_type": "code",
      "metadata": {
        "id": "Y1YGyv398OWA",
        "colab_type": "code",
        "outputId": "600df59f-58b9-472a-8fce-f77af8aaee1a",
        "colab": {
          "base_uri": "https://localhost:8080/",
          "height": 52
        }
      },
      "source": [
        "(X_train, y_train), (X_test, y_test) = mnist.load_data()\n",
        "X_train_D = X_train.reshape(X_train.shape[0], 28, 28, 1).astype('float32')\n",
        "X_test_D = X_test.reshape(X_test.shape[0], 28, 28, 1).astype('float32')\n",
        "X_train = X_train_D / 255.0\n",
        "X_test = X_test_D / 255.0\n",
        "number_of_classes = np.unique(y_train).shape[0]\n",
        "shape = (28, 28, 1)"
      ],
      "execution_count": 3,
      "outputs": [
        {
          "output_type": "stream",
          "text": [
            "Downloading data from https://s3.amazonaws.com/img-datasets/mnist.npz\n",
            "11493376/11490434 [==============================] - 1s 0us/step\n"
          ],
          "name": "stdout"
        }
      ]
    },
    {
      "cell_type": "code",
      "metadata": {
        "id": "JL2g05mb8Q7o",
        "colab_type": "code",
        "outputId": "dab311df-ae04-414e-9dcd-3f62be28492d",
        "colab": {
          "base_uri": "https://localhost:8080/",
          "height": 1000
        }
      },
      "source": [
        "batch_size = 128\n",
        "sparse_categorical = 0\n",
        "n_epochs = [5, 5, 5]  ## DNN-RNN-CNN\n",
        "Random_Deep = [1, 1, 1]  ## DNN-RNN-CNN\n",
        "\n",
        "RMDL.Image_Classification(X_train, y_train, X_test, y_test,shape,\n",
        "                     batch_size=batch_size,\n",
        "                     sparse_categorical=True,\n",
        "                     random_deep=Random_Deep,\n",
        "                     epochs=n_epochs)"
      ],
      "execution_count": 4,
      "outputs": [
        {
          "output_type": "stream",
          "text": [
            "DNN  0 \n",
            "\n",
            "WARNING:tensorflow:From /usr/local/lib/python3.6/dist-packages/keras/backend/tensorflow_backend.py:66: The name tf.get_default_graph is deprecated. Please use tf.compat.v1.get_default_graph instead.\n",
            "\n",
            "(28, 28, 1)\n",
            "WARNING:tensorflow:From /usr/local/lib/python3.6/dist-packages/keras/backend/tensorflow_backend.py:541: The name tf.placeholder is deprecated. Please use tf.compat.v1.placeholder instead.\n",
            "\n",
            "WARNING:tensorflow:From /usr/local/lib/python3.6/dist-packages/keras/backend/tensorflow_backend.py:4432: The name tf.random_uniform is deprecated. Please use tf.random.uniform instead.\n",
            "\n",
            "WARNING:tensorflow:From /usr/local/lib/python3.6/dist-packages/keras/backend/tensorflow_backend.py:148: The name tf.placeholder_with_default is deprecated. Please use tf.compat.v1.placeholder_with_default instead.\n",
            "\n",
            "WARNING:tensorflow:From /usr/local/lib/python3.6/dist-packages/keras/backend/tensorflow_backend.py:3733: calling dropout (from tensorflow.python.ops.nn_ops) with keep_prob is deprecated and will be removed in a future version.\n",
            "Instructions for updating:\n",
            "Please use `rate` instead of `keep_prob`. Rate should be set to `rate = 1 - keep_prob`.\n",
            "<keras.optimizers.Adam object at 0x7f54bbd85828>\n",
            "WARNING:tensorflow:From /usr/local/lib/python3.6/dist-packages/keras/optimizers.py:793: The name tf.train.Optimizer is deprecated. Please use tf.compat.v1.train.Optimizer instead.\n",
            "\n",
            "WARNING:tensorflow:From /usr/local/lib/python3.6/dist-packages/keras/backend/tensorflow_backend.py:3622: The name tf.log is deprecated. Please use tf.math.log instead.\n",
            "\n",
            "WARNING:tensorflow:From /usr/local/lib/python3.6/dist-packages/tensorflow/python/ops/math_grad.py:1250: add_dispatch_support.<locals>.wrapper (from tensorflow.python.ops.array_ops) is deprecated and will be removed in a future version.\n",
            "Instructions for updating:\n",
            "Use tf.where in 2.0, which has the same broadcast rule as np.where\n",
            "Train on 60000 samples, validate on 10000 samples\n",
            "Epoch 1/5\n",
            " - 9s - loss: 0.2311 - acc: 0.9301 - val_loss: 0.1016 - val_acc: 0.9689\n",
            "\n",
            "Epoch 00001: val_acc improved from -inf to 0.96890, saving model to weights\\weights_DNN_0.hdf5\n",
            "Epoch 2/5\n",
            " - 4s - loss: 0.0923 - acc: 0.9723 - val_loss: 0.0843 - val_acc: 0.9752\n",
            "\n",
            "Epoch 00002: val_acc improved from 0.96890 to 0.97520, saving model to weights\\weights_DNN_0.hdf5\n",
            "Epoch 3/5\n",
            " - 4s - loss: 0.0667 - acc: 0.9791 - val_loss: 0.0808 - val_acc: 0.9765\n",
            "\n",
            "Epoch 00003: val_acc improved from 0.97520 to 0.97650, saving model to weights\\weights_DNN_0.hdf5\n",
            "Epoch 4/5\n",
            " - 4s - loss: 0.0490 - acc: 0.9854 - val_loss: 0.0776 - val_acc: 0.9774\n",
            "\n",
            "Epoch 00004: val_acc improved from 0.97650 to 0.97740, saving model to weights\\weights_DNN_0.hdf5\n",
            "Epoch 5/5\n",
            " - 4s - loss: 0.0445 - acc: 0.9861 - val_loss: 0.0854 - val_acc: 0.9766\n",
            "\n",
            "Epoch 00005: val_acc did not improve from 0.97740\n",
            "RNN  0 \n",
            "\n",
            "<keras.optimizers.RMSprop object at 0x7f54b0036cf8>\n",
            "Train on 60000 samples, validate on 10000 samples\n",
            "Epoch 1/5\n",
            " - 77s - loss: 0.9943 - acc: 0.6500 - val_loss: 0.3887 - val_acc: 0.8638\n",
            "\n",
            "Epoch 00001: val_acc improved from -inf to 0.86380, saving model to weights\\weights_RNN_0.hdf5\n",
            "Epoch 2/5\n",
            " - 76s - loss: 0.2983 - acc: 0.9046 - val_loss: 0.1638 - val_acc: 0.9472\n",
            "\n",
            "Epoch 00002: val_acc improved from 0.86380 to 0.94720, saving model to weights\\weights_RNN_0.hdf5\n",
            "Epoch 3/5\n",
            " - 76s - loss: 0.1590 - acc: 0.9500 - val_loss: 0.1061 - val_acc: 0.9675\n",
            "\n",
            "Epoch 00003: val_acc improved from 0.94720 to 0.96750, saving model to weights\\weights_RNN_0.hdf5\n",
            "Epoch 4/5\n",
            " - 76s - loss: 0.1062 - acc: 0.9673 - val_loss: 0.0737 - val_acc: 0.9770\n",
            "\n",
            "Epoch 00004: val_acc improved from 0.96750 to 0.97700, saving model to weights\\weights_RNN_0.hdf5\n",
            "Epoch 5/5\n",
            " - 76s - loss: 0.0842 - acc: 0.9740 - val_loss: 0.0641 - val_acc: 0.9805\n",
            "\n",
            "Epoch 00005: val_acc improved from 0.97700 to 0.98050, saving model to weights\\weights_RNN_0.hdf5\n",
            "CNN  0 \n",
            "\n",
            "WARNING:tensorflow:From /usr/local/lib/python3.6/dist-packages/keras/backend/tensorflow_backend.py:4267: The name tf.nn.max_pool is deprecated. Please use tf.nn.max_pool2d instead.\n",
            "\n",
            "<keras.optimizers.RMSprop object at 0x7f546bfa2b38>\n",
            "Train on 60000 samples, validate on 10000 samples\n",
            "Epoch 1/5\n",
            " - 172s - loss: 0.3083 - acc: 0.9071 - val_loss: 0.0637 - val_acc: 0.9826\n",
            "\n",
            "Epoch 00001: val_acc improved from -inf to 0.98260, saving model to weights\\weights_CNN_0.hdf5\n",
            "Epoch 2/5\n",
            " - 161s - loss: 0.0482 - acc: 0.9858 - val_loss: 0.0385 - val_acc: 0.9892\n",
            "\n",
            "Epoch 00002: val_acc improved from 0.98260 to 0.98920, saving model to weights\\weights_CNN_0.hdf5\n",
            "Epoch 3/5\n",
            " - 160s - loss: 0.0355 - acc: 0.9900 - val_loss: 0.0384 - val_acc: 0.9895\n",
            "\n",
            "Epoch 00003: val_acc improved from 0.98920 to 0.98950, saving model to weights\\weights_CNN_0.hdf5\n",
            "Epoch 4/5\n",
            " - 159s - loss: 0.0286 - acc: 0.9923 - val_loss: 0.0501 - val_acc: 0.9884\n",
            "\n",
            "Epoch 00004: val_acc did not improve from 0.98950\n",
            "Epoch 5/5\n",
            " - 158s - loss: 0.0262 - acc: 0.9934 - val_loss: 0.0441 - val_acc: 0.9893\n",
            "\n",
            "Epoch 00005: val_acc did not improve from 0.98950\n",
            "(10000, 3)\n",
            "(10000, 3)\n",
            "Accuracy of 3 models: [0.9774, 0.9805, 0.9895]\n",
            "Accuracy: 0.9904\n",
            "F1_Micro: 0.9904\n",
            "F1_Macro: 0.9903194349233402\n",
            "F1_weighted: 0.9903995407863294\n"
          ],
          "name": "stdout"
        }
      ]
    },
    {
      "cell_type": "code",
      "metadata": {
        "id": "tKUdRSsq8yyo",
        "colab_type": "code",
        "colab": {}
      },
      "source": [
        ""
      ],
      "execution_count": 0,
      "outputs": []
    }
  ]
}