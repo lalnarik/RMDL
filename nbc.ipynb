{
  "nbformat": 4,
  "nbformat_minor": 0,
  "metadata": {
    "colab": {
      "name": "Untitled1.ipynb",
      "provenance": []
    },
    "kernelspec": {
      "name": "python3",
      "display_name": "Python 3"
    }
  },
  "cells": [
    {
      "cell_type": "code",
      "metadata": {
        "id": "iCmrmPmBCHLq",
        "colab_type": "code",
        "colab": {
          "base_uri": "https://localhost:8080/",
          "height": 136
        },
        "outputId": "13226cf3-c36c-4d28-bd19-33e655fa2551"
      },
      "source": [
        "from keras.datasets import mnist\n",
        "import numpy as np\n",
        "import pandas as pd\n",
        "import matplotlib.pyplot as plt\n",
        "import seaborn as sns\n",
        "%matplotlib inline\n",
        "(X_train, y_train), (X_test, y_test) = mnist.load_data()\n",
        "from sklearn.naive_bayes import GaussianNB\n",
        "from sklearn.metrics import confusion_matrix\n",
        "from sklearn.metrics import f1_score\n",
        "from sklearn.metrics import accuracy_score\n",
        "\n",
        "gnb = GaussianNB()\n",
        "X_train = X_train.reshape(-1,28*28)\n",
        "X_test = X_test.reshape(-1, 28*28)\n",
        "y_pred = gnb.fit(X_train, y_train).predict(X_test)\n",
        "\n",
        "macro = f1_score(y_test, y_pred, average='macro')\n",
        "micro = f1_score(y_test, y_pred, average='micro')\n",
        "weighted = f1_score(y_test, y_pred, average='weighted')\n",
        "print(\"Micro: \", micro)\n",
        "print(\"Macro: \", macro)\n",
        "print(\"Weighted: \", weighted)\n",
        "print(\"Accuracy Score\", accuracy_score(y_test, y_pred))\n"
      ],
      "execution_count": 1,
      "outputs": [
        {
          "output_type": "stream",
          "text": [
            "Using TensorFlow backend.\n"
          ],
          "name": "stderr"
        },
        {
          "output_type": "stream",
          "text": [
            "Downloading data from https://s3.amazonaws.com/img-datasets/mnist.npz\n",
            "11493376/11490434 [==============================] - 0s 0us/step\n",
            "Micro:  0.5558\n",
            "Macro:  0.5089855858364396\n",
            "Weighted:  0.5170420327932063\n",
            "Accuracy Score 0.5558\n"
          ],
          "name": "stdout"
        }
      ]
    }
  ]
}