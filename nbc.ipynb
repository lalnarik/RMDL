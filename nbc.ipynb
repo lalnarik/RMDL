{
  "nbformat": 4,
  "nbformat_minor": 0,
  "metadata": {
    "colab": {
      "name": "Untitled0.ipynb",
      "provenance": []
    },
    "kernelspec": {
      "name": "python3",
      "display_name": "Python 3"
    },
    "accelerator": "GPU"
  },
  "cells": [
    {
      "cell_type": "code",
      "metadata": {
        "id": "Q4sqgM8A6ogS",
        "colab_type": "code",
        "outputId": "991d7fe7-8696-434c-c007-503a31964460",
        "colab": {
          "base_uri": "https://localhost:8080/",
          "height": 663
        }
      },
    {
      "cell_type": "code",
      "metadata": {
        "id": "tKUdRSsq8yyo",
        "colab_type": "code",
        "colab": {}
      },
      "source": [
        "import pandas as pd\n",
        "import matplotlib.pyplot as plt\n",
        "import seaborn as sns\n",
        "%matplotlib inline\n",
        "(X_train, y_train), (X_test, y_test) = mnist.load_data()"
      ],
      "execution_count": 0,
      "outputs": []
    },
    {
      "cell_type": "code",
      "metadata": {
        "id": "qEv9W-izlfRL",
        "colab_type": "code",
        "colab": {
          "base_uri": "https://localhost:8080/",
          "height": 85
        },
        "outputId": "54f7786d-3c4f-49bb-9ed2-efa795f25cae"
      },
      "source": [
        "from sklearn.naive_bayes import GaussianNB\n",
        "from sklearn.metrics import confusion_matrix\n",
        "from sklearn.metrics import f1_score\n",
        "from sklearn.metrics import accuracy_score\n",
        "\n",
        "gnb = GaussianNB()\n",
        "X_train = X_train.reshape(-1,28*28)\n",
        "X_test = X_test.reshape(-1, 28*28)\n",
        "y_pred = gnb.fit(X_train, y_train).predict(X_test)\n",
        "\n",
        "macro = f1_score(y_test, y_pred, average='macro')\n",
        "micro = f1_score(y_test, y_pred, average='micro')\n",
        "weighted = f1_score(y_test, y_pred, average='weighted')\n",
        "print(\"Micro: \", micro)\n",
        "print(\"Macro: \", macro)\n",
        "print(\"Weighted: \", weighted)\n",
        "print(\"Accuracy Score\", accuracy_score(y_test, y_pred))\n"
      ],
      "execution_count": 17,
      "outputs": [
        {
          "output_type": "stream",
          "text": [
            "Micro:  0.5558\n",
            "Macro:  0.5089855858364396\n",
            "Weighted:  0.5170420327932063\n",
            "Accuracy Score 0.5558\n"
          ],
          "name": "stdout"
        }
      ]
    },
    {
      "cell_type": "code",
      "metadata": {
        "id": "8LWjDmAyli8G",
        "colab_type": "code",
        "colab": {}
      },
      "source": [
        ""
      ],
      "execution_count": 0,
      "outputs": []
    },
    {
      "cell_type": "code",
      "metadata": {
        "id": "l6jvcoGG4c9D",
        "colab_type": "code",
        "colab": {}
      },
      "source": [
        ""
      ],
      "execution_count": 0,
      "outputs": []
    }
  ]
}
