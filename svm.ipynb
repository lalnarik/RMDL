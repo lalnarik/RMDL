{
  "nbformat": 4,
  "nbformat_minor": 0,
  "metadata": {
    "colab": {
      "name": "Untitled3.ipynb",
      "provenance": []
    },
    "kernelspec": {
      "name": "python3",
      "display_name": "Python 3"
    }
  },
  "cells": [
    {
      "cell_type": "code",
      "metadata": {
        "id": "VQAzf7F3WJQM",
        "colab_type": "code",
        "outputId": "f031c82f-398f-4f7d-dace-0deb40fdacd9",
        "colab": {
          "base_uri": "https://localhost:8080/",
          "height": 85
        }
      },
      "source": [
        "from keras.datasets import mnist\n",
        "import numpy as np\n",
        "import pandas as pd\n",
        "import matplotlib.pyplot as plt\n",
        "import seaborn as sns\n",
        "%matplotlib inline\n",
        "(X_train, y_train), (X_test, y_test) = mnist.load_data()\n",
        "from sklearn import svm\n",
        "from sklearn.metrics import confusion_matrix\n",
        "from sklearn.metrics import f1_score\n",
        "from sklearn.metrics import accuracy_score\n",
        "svc_temp = svm.SVC(gamma='scale')\n",
        "X_train = X_train.reshape(-1,28*28)\n",
        "X_test = X_test.reshape(-1, 28*28)\n",
        "y_pred = svc_temp.fit(X_train[1:5000,], y_train[1:5000,]).predict(X_test)\n",
        "macro = f1_score(y_test, y_pred, average='macro')\n",
        "micro = f1_score(y_test, y_pred, average='micro')\n",
        "weighted = f1_score(y_test, y_pred, average='weighted')\n",
        "print(\"Micro: \", micro)\n",
        "print(\"Macro: \", macro)\n",
        "print(\"Weighted: \", weighted)\n",
        "print(\"Accuracy Score\", accuracy_score(y_test, y_pred))\n"
      ],
      "execution_count": 2,
      "outputs": [
        {
          "output_type": "stream",
          "text": [
            "Micro:  0.9511\n",
            "Macro:  0.9506670834055602\n",
            "Weighted:  0.9510150355840127\n",
            "Accuracy Score 0.9511\n"
          ],
          "name": "stdout"
        }
      ]
    },
    {
      "cell_type": "code",
      "metadata": {
        "id": "f12eWblGXsJ6",
        "colab_type": "code",
        "colab": {}
      },
      "source": [
        ""
      ],
      "execution_count": 0,
      "outputs": []
    }
  ]
}